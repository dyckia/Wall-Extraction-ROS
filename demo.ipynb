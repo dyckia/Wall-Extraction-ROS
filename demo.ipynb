{
 "cells": [
  {
   "cell_type": "markdown",
   "metadata": {},
   "source": [
    "# Helper functions for visualization purpose"
   ]
  },
  {
   "cell_type": "code",
   "execution_count": 1,
   "metadata": {},
   "outputs": [],
   "source": [
    "from my_display import display_line\n",
    "from my_display import display_lines\n",
    "from my_display import display_points"
   ]
  },
  {
   "cell_type": "markdown",
   "metadata": {},
   "source": [
    "# Initialize scan data scan_sim (simulation) & scan_real (real data from laser rangefinder)"
   ]
  },
  {
   "cell_type": "code",
   "execution_count": 2,
   "metadata": {},
   "outputs": [],
   "source": [
    "class Scan_Data(object):\n",
    "    '''\n",
    "    A mockup of the ros_scan data structure\n",
    "    '''\n",
    "    def __init__(self, ranges, angle_min, angle_max, angle_increment):\n",
    "        self.ranges = ranges\n",
    "        self.angle_min = angle_min\n",
    "        self.angle_max = angle_max\n",
    "        self.angle_increment = angle_increment\n",
    "\n",
    "ranges1 = [0.01899999938905239, 0.01899999938905239, 0.01899999938905239, 0.01899999938905239, 0.01899999938905239, 0.01899999938905239, 0.01899999938905239, 0.01899999938905239, 0.01899999938905239, 0.01899999938905239, 0.01899999938905239, 0.01899999938905239, 0.01899999938905239, 0.01899999938905239, 0.01899999938905239, 0.01899999938905239, 0.01899999938905239, 0.01899999938905239, 0.01899999938905239, 0.01899999938905239, 0.01899999938905239, 0.01899999938905239, 0.01899999938905239, 0.01899999938905239, 0.01899999938905239, 0.01899999938905239, 0.01899999938905239, 0.01899999938905239, 0.01899999938905239, 0.01899999938905239, 0.01899999938905239, 0.01899999938905239, 0.01899999938905239, 0.01899999938905239, 0.01899999938905239, 0.01899999938905239, 0.01899999938905239, 0.01899999938905239, 0.01899999938905239, 0.01899999938905239, 0.01899999938905239, 0.01899999938905239, 0.01899999938905239, 0.01899999938905239, 1.5169999599456787, 1.5379999876022339, 1.5509999990463257, 1.5679999589920044, 1.5720000267028809, 1.5850000381469727, 1.5920000076293945, 1.5989999771118164, 1.61899995803833, 1.6260000467300415, 1.628999948501587, 1.649999976158142, 1.6610000133514404, 1.6779999732971191, 1.690000057220459, 1.7100000381469727, 1.7230000495910645, 1.7289999723434448, 1.746000051498413, 1.7680000066757202, 1.781000018119812, 1.7979999780654907, 1.8209999799728394, 1.8339999914169312, 1.8550000190734863, 1.8739999532699585, 1.8960000276565552, 1.9170000553131104, 1.9320000410079956, 1.9600000381469727, 1.9819999933242798, 1.9930000305175781, 2.0339999198913574, 2.052000045776367, 2.0769999027252197, 2.0969998836517334, 2.125, 2.1510000228881836, 2.1760001182556152, 2.194999933242798, 2.240999937057495, 2.2660000324249268, 2.3519999980926514, 2.3519999980926514, 2.378000020980835, 2.4119999408721924, 2.4119999408721924, 2.446000099182129, 2.4739999771118164, 2.5139999389648438, 2.5409998893737793, 2.5820000171661377, 2.628999948501587, 2.6659998893737793, 2.700000047683716, 2.753000020980835, 2.753000020980835, 2.75600004196167, 2.7720000743865967, 20.0, 20.0, 20.0, 20.0, 20.0, 0.007000000216066837, 20.0, 20.0, 20.0, 20.0, 20.0, 20.0, 20.0, 2.6659998893737793, 2.6600000858306885, 2.6600000858306885, 2.6549999713897705, 2.6549999713897705, 0.007000000216066837, 2.6549999713897705, 2.6549999713897705, 2.63100004196167, 2.630000114440918, 2.63100004196167, 2.63100004196167, 2.630000114440918, 2.621000051498413, 2.617000102996826, 2.614000082015991, 2.6010000705718994, 2.5999999046325684, 2.5999999046325684, 2.5959999561309814, 2.5950000286102295, 2.5940001010894775, 2.5910000801086426, 2.5910000801086426, 2.5789999961853027, 2.5739998817443848, 2.5739998817443848, 2.572000026702881, 2.569000005722046, 2.562999963760376, 2.562000036239624, 2.562000036239624, 2.563999891281128, 2.562000036239624, 2.562999963760376, 2.563999891281128, 2.562999963760376, 2.562999963760376, 2.562999963760376, 2.565000057220459, 2.562000036239624, 2.562000036239624, 2.562000036239624, 2.562999963760376, 2.562999963760376, 2.565000057220459, 2.565000057220459, 2.569999933242798, 2.569999933242798, 2.569999933242798, 2.569999933242798, 2.565999984741211, 2.565999984741211, 2.565000057220459, 2.565999984741211, 2.568000078201294, 2.569000005722046, 2.568000078201294, 2.569000005722046, 2.569000005722046, 2.569000005722046, 2.566999912261963, 2.566999912261963, 2.566999912261963, 2.575000047683716, 2.575000047683716, 2.5759999752044678, 2.5759999752044678, 2.5859999656677246, 2.5869998931884766, 2.5920000076293945, 2.6010000705718994, 2.6010000705718994, 2.61299991607666, 2.61299991607666, 2.618000030517578, 2.619999885559082, 2.621000051498413, 2.622999906539917, 2.622999906539917, 2.624000072479248, 2.630000114440918, 2.634999990463257, 2.6389999389648438, 2.6410000324249268, 2.6410000324249268, 2.6500000953674316, 2.6570000648498535, 2.6619999408721924, 2.680999994277954, 0.007000000216066837, 20.0, 0.007000000216066837, 20.0, 0.007000000216066837, 2.703000068664551, 2.694000005722046, 2.703000068664551, 2.703000068664551, 20.0, 20.0, 20.0, 20.0, 20.0, 20.0, 20.0, 20.0, 0.007000000216066837, 20.0, 20.0, 20.0, 20.0, 20.0, 20.0, 20.0, 20.0, 20.0, 20.0, 20.0, 20.0, 20.0, 20.0, 20.0, 20.0, 20.0, 20.0, 20.0, 20.0, 20.0, 20.0, 20.0, 20.0, 20.0, 20.0, 20.0, 20.0, 20.0, 20.0, 20.0, 20.0, 20.0, 20.0, 20.0, 20.0, 20.0, 20.0, 20.0, 20.0, 20.0, 20.0, 20.0, 20.0, 20.0, 20.0, 20.0, 20.0, 20.0, 20.0, 20.0, 20.0, 0.8650000095367432, 0.8569999933242798, 0.8569999933242798, 0.8610000014305115, 0.8610000014305115, 0.8569999933242798, 0.8569999933242798, 0.8569999933242798, 0.8550000190734863, 0.8550000190734863, 0.8529999852180481, 0.8550000190734863, 0.8500000238418579, 0.8500000238418579, 0.8420000076293945, 0.8410000205039978, 0.8410000205039978, 0.8510000109672546, 0.8550000190734863, 0.8579999804496765, 0.859000027179718, 0.8600000143051147, 0.8619999885559082, 0.8650000095367432, 0.8650000095367432, 0.8659999966621399, 0.8690000176429749, 0.8769999742507935, 0.8820000290870667, 0.8830000162124634, 0.8830000162124634, 0.8830000162124634, 0.8920000195503235, 0.8949999809265137, 0.8949999809265137, 0.8949999809265137, 0.8949999809265137, 0.8949999809265137, 0.8960000276565552, 0.8970000147819519, 0.8989999890327454, 0.9070000052452087, 0.9079999923706055, 0.9179999828338623, 0.9179999828338623, 0.9300000071525574, 0.9300000071525574, 0.9300000071525574, 0.9369999766349792, 0.9409999847412109, 0.9589999914169312, 0.9850000143051147, 0.9860000014305115, 1.0260000228881836, 20.0, 20.0, 20.0, 20.0, 20.0, 20.0, 20.0, 20.0, 20.0, 20.0, 20.0, 20.0, 20.0, 20.0, 20.0, 20.0, 20.0, 20.0, 20.0, 20.0, 20.0, 20.0, 20.0, 20.0, 20.0, 20.0, 20.0, 0.006000000052154064, 0.006000000052154064, 0.006000000052154064, 0.006000000052154064, 0.006000000052154064, 0.006000000052154064, 0.006000000052154064, 0.006000000052154064, 0.006000000052154064, 0.006000000052154064, 0.006000000052154064, 0.006000000052154064, 0.006000000052154064, 0.006000000052154064, 0.006000000052154064, 0.006000000052154064, 0.006000000052154064, 0.006000000052154064, 0.006000000052154064, 0.006000000052154064, 0.006000000052154064, 0.006000000052154064, 0.006000000052154064, 0.006000000052154064, 0.006000000052154064, 0.006000000052154064, 0.006000000052154064, 0.006000000052154064, 0.006000000052154064, 0.006000000052154064, 0.006000000052154064, 0.006000000052154064, 0.006000000052154064, 0.006000000052154064, 0.006000000052154064, 0.006000000052154064, 0.006000000052154064, 0.006000000052154064, 0.006000000052154064, 0.006000000052154064, 0.006000000052154064, 0.006000000052154064, 0.006000000052154064, 0.006000000052154064, 0.006000000052154064, 0.006000000052154064, 0.006000000052154064, 0.006000000052154064, 0.006000000052154064, 0.006000000052154064, 0.006000000052154064, 0.006000000052154064, 0.006000000052154064, 0.006000000052154064, 0.006000000052154064, 0.006000000052154064, 0.006000000052154064, 0.006000000052154064, 0.006000000052154064, 0.006000000052154064, 0.006000000052154064, 0.006000000052154064, 0.006000000052154064, 0.006000000052154064, 0.006000000052154064, 0.006000000052154064, 0.006000000052154064, 0.006000000052154064, 0.006000000052154064, 0.006000000052154064, 0.006000000052154064, 0.006000000052154064, 0.006000000052154064, 20.0, 20.0, 20.0, 20.0, 20.0, 20.0, 20.0, 20.0, 20.0, 20.0, 20.0, 0.006000000052154064, 0.006000000052154064, 0.006000000052154064, 0.006000000052154064, 0.006000000052154064, 0.006000000052154064, 0.006000000052154064, 0.006000000052154064, 0.006000000052154064, 0.006000000052154064, 0.006000000052154064, 0.006000000052154064, 0.006000000052154064, 0.006000000052154064, 0.006000000052154064, 0.006000000052154064, 0.006000000052154064, 0.006000000052154064, 0.006000000052154064, 0.006000000052154064, 0.006000000052154064, 0.006000000052154064, 0.006000000052154064, 0.006000000052154064, 0.006000000052154064, 0.006000000052154064, 0.006000000052154064, 0.006000000052154064, 0.006000000052154064, 0.006000000052154064, 0.006000000052154064, 0.006000000052154064, 0.006000000052154064, 0.006000000052154064, 0.006000000052154064, 20.0, 20.0, 20.0, 20.0, 20.0, 20.0, 20.0, 20.0, 20.0, 20.0, 0.006000000052154064, 0.006000000052154064, 0.006000000052154064, 0.006000000052154064, 0.006000000052154064, 0.006000000052154064, 20.0, 20.0, 20.0, 0.006000000052154064, 0.006000000052154064, 0.006000000052154064, 0.006000000052154064, 20.0, 20.0, 20.0, 20.0, 20.0, 20.0, 20.0, 20.0, 20.0, 20.0, 20.0, 20.0, 20.0, 20.0, 20.0, 20.0, 20.0, 20.0, 20.0, 20.0, 20.0, 20.0, 20.0, 20.0, 20.0, 20.0, 20.0, 20.0, 20.0, 20.0, 20.0, 20.0, 20.0, 20.0, 20.0, 20.0, 20.0, 20.0, 20.0, 20.0, 20.0, 20.0, 20.0, 20.0, 20.0, 20.0, 20.0, 20.0, 20.0, 20.0, 20.0, 20.0, 20.0, 20.0, 20.0, 20.0, 20.0, 20.0, 20.0, 20.0, 20.0, 20.0, 20.0, 20.0, 20.0, 20.0, 20.0, 20.0, 20.0, 20.0, 20.0, 20.0, 20.0, 20.0, 20.0, 20.0, 20.0, 20.0, 20.0, 20.0, 20.0, 20.0, 20.0, 20.0, 20.0, 20.0, 20.0, 20.0, 20.0, 20.0, 20.0, 20.0, 20.0, 20.0, 20.0, 20.0, 20.0, 20.0, 20.0, 20.0, 20.0, 20.0, 20.0, 20.0, 20.0, 20.0, 20.0, 20.0, 20.0, 20.0, 20.0, 20.0, 20.0, 20.0, 20.0, 20.0, 20.0, 20.0, 20.0, 20.0, 20.0, 20.0, 20.0, 20.0, 20.0, 20.0, 20.0, 20.0, 20.0, 20.0, 20.0, 20.0, 20.0, 20.0, 20.0, 20.0, 20.0, 20.0, 20.0, 20.0, 20.0, 0.007000000216066837, 4.099999904632568, 4.052000045776367, 4.050000190734863, 4.043000221252441, 4.040999889373779, 4.040999889373779, 4.0320000648498535, 4.0269999504089355, 4.0269999504089355, 4.0269999504089355, 4.026000022888184, 4.015999794006348, 4.006999969482422, 4.00600004196167, 4.004000186920166, 4.0, 3.999000072479248, 3.999000072479248, 3.99399995803833, 3.990000009536743, 3.989000082015991, 3.989000082015991, 3.989000082015991, 20.0, 20.0, 20.0, 20.0, 20.0, 20.0, 20.0, 20.0, 20.0, 20.0, 20.0, 20.0, 20.0, 20.0, 20.0, 20.0, 20.0, 20.0, 20.0, 20.0, 20.0, 20.0, 20.0, 3.990000009536743, 3.984999895095825, 3.984999895095825, 3.98799991607666, 3.990000009536743, 3.992000102996826, 3.99399995803833, 3.997999906539917, 4.001999855041504, 4.013999938964844, 4.015999794006348, 4.015999794006348, 4.015999794006348, 4.0269999504089355, 4.0289998054504395, 4.0289998054504395, 4.0370001792907715, 4.039000034332275, 4.047999858856201, 4.047999858856201, 4.057000160217285, 4.059000015258789, 4.065999984741211, 4.067999839782715, 4.072000026702881, 4.078999996185303, 4.081999778747559, 4.081999778747559, 4.081999778747559, 4.065000057220459, 4.004000186920166, 3.9049999713897705, 3.7990000247955322, 3.7300000190734863, 3.6489999294281006, 3.5769999027252197, 3.4769999980926514, 3.3959999084472656, 3.3469998836517334]\n",
    "angle_min1 = -2.35619449615\n",
    "angle_max1 = 2.09234976768\n",
    "angle_increment1 = 0.00613592332229\n",
    "scan_real = Scan_Data(ranges1, angle_min1, angle_max1, angle_increment1)\n",
    "\n",
    "ranges2 = [3.1762819290161133, 3.103274345397949, 3.0388646125793457, 2.9823038578033447, 2.9329640865325928, 2.89031982421875, 2.8539328575134277, 2.823441743850708, 2.798551559448242, 2.779027223587036, 2.764688014984131, 2.7554025650024414, 2.751087188720703, 2.7517027854919434, 2.7572555541992188, 2.767794609069824, 2.7834160327911377, 2.80426287651062, 2.830528974533081, 2.86246395111084, 2.900378465652466, 2.944652557373047, 2.995744466781616, 3.054204225540161, 3.120687961578369, 3.1959784030914307, 3.2810096740722656, 3.376899003982544, 3.484987735748291, 3.6068944931030273, 3.744584560394287, 3.8952274322509766, 4.062768936157227, 4.26259708404541, 4.500875949859619, 4.774260520935059, 5.0, 5.0, 5.0, 5.0, 5.0, 5.0, 5.0, 5.0, 5.0, 5.0, 5.0, 5.0, 5.0, 5.0, 5.0, 5.0, 5.0, 4.090345859527588, 3.168231964111328, 2.6013054847717285, 2.2040998935699463, 1.9220681190490723, 1.7043126821517944, 1.530637264251709, 1.3885233402252197, 1.292419195175171, 1.1920390129089355, 1.1161623001098633, 1.0444583892822266, 1.0320638418197632, 1.0826857089996338, 1.1179065704345703, 1.1707769632339478, 1.1833229064941406, 1.24471116065979, 1.3293348550796509, 1.390398383140564, 1.4890056848526, 1.585628628730774, 1.7008298635482788, 1.872342824935913, 2.0380444526672363, 2.26603627204895, 2.562479019165039, 2.928550958633423, 3.0290300846099854, 2.9977591037750244, 2.984292507171631, 2.967543840408325, 2.9562439918518066, 2.9502906799316406, 2.9496304988861084, 2.9542572498321533, 2.9642128944396973, 2.9795870780944824, 3.0005204677581787, 3.0272068977355957, 3.059898614883423, 3.0989115238189697, 3.1446335315704346, 3.1975338459014893, 3.258176565170288, 3.3272345066070557, 3.4055111408233643]\n",
    "angle_min2 = -2.09439516068\n",
    "angle_max2 = 2.09439516068\n",
    "angle_increment2 = 0.0423110127449\n",
    "scan_sim = Scan_Data(ranges2, angle_min2, angle_max2, angle_increment2)"
   ]
  },
  {
   "cell_type": "markdown",
   "metadata": {},
   "source": [
    "# Preprocessing step\n",
    "\n",
    "Transformation coordinates from polar coordinate system to cartesian coordinate system"
   ]
  },
  {
   "cell_type": "code",
   "execution_count": 3,
   "metadata": {},
   "outputs": [],
   "source": [
    "from math import sin\n",
    "from math import cos\n",
    "\n",
    "maximum_range = 4.3\n",
    "minimum_range = 0.1\n",
    "\n",
    "class Coordinates(object):\n",
    "    '''\n",
    "    Store coordinates in cartesian coordinate system as well as in polar coordinate system\n",
    "    '''\n",
    "    def __init__(self, x, y, theta, rho):\n",
    "        self.x = x\n",
    "        self.y = y\n",
    "        self.theta = theta\n",
    "        self.rho = rho\n",
    "\n",
    "        \n",
    "def preprocess(scan, maximum_range):\n",
    "    x = []\n",
    "    y = []\n",
    "    theta = []\n",
    "    rho = []\n",
    "    for i in range(len(scan.ranges)):\n",
    "        rho_i = scan.ranges[i]\n",
    "        if rho_i < minimum_range or rho_i > maximum_range:\n",
    "            continue\n",
    "        theta_i = scan.angle_min + i * scan.angle_increment\n",
    "        x_i = rho_i * cos(theta_i)\n",
    "        y_i = rho_i * sin(theta_i)\n",
    "        x.append(x_i)\n",
    "        y.append(y_i)\n",
    "        theta.append(theta_i)\n",
    "        rho.append(rho_i)\n",
    "    coordinates = Coordinates(x, y, theta, rho)\n",
    "    return coordinates    "
   ]
  },
  {
   "cell_type": "markdown",
   "metadata": {},
   "source": [
    "# Visualize scan data"
   ]
  },
  {
   "cell_type": "markdown",
   "metadata": {},
   "source": [
    "## Data in simulation environment"
   ]
  },
  {
   "cell_type": "code",
   "execution_count": 4,
   "metadata": {},
   "outputs": [
    {
     "data": {
      "image/png": "[encoded data removed]",
      "text/plain": [
       "<Figure size 432x288 with 1 Axes>"
      ]
     },
     "metadata": {},
     "output_type": "display_data"
    }
   ],
   "source": [
    "coordinates_sim = preprocess(scan_sim, maximum_range)\n",
    "display_points(coordinates_sim)"
   ]
  },
  {
   "cell_type": "markdown",
   "metadata": {},
   "source": [
    "## Data in real-world environment"
   ]
  },
  {
   "cell_type": "code",
   "execution_count": 5,
   "metadata": {},
   "outputs": [
    {
     "data": {
      "image/png": "[encoded data removed]",
      "text/plain": [
       "<Figure size 432x288 with 1 Axes>"
      ]
     },
     "metadata": {},
     "output_type": "display_data"
    }
   ],
   "source": [
    "coordinates_real = preprocess(scan_real, maximum_range)\n",
    "display_points(coordinates_real)"
   ]
  },
  {
   "cell_type": "markdown",
   "metadata": {},
   "source": [
    "# Some paramemters"
   ]
  },
  {
   "cell_type": "code",
   "execution_count": 6,
   "metadata": {},
   "outputs": [],
   "source": [
    "min_line_points = 10\n",
    "seed_seg_points = 6\n",
    "ortho_threshold = 0.03\n",
    "projected_threshold = 0.1"
   ]
  },
  {
   "cell_type": "markdown",
   "metadata": {},
   "source": [
    "# Main Program"
   ]
  },
  {
   "cell_type": "markdown",
   "metadata": {},
   "source": [
    "## Line class defination and some helper functions"
   ]
  },
  {
   "cell_type": "code",
   "execution_count": 7,
   "metadata": {},
   "outputs": [],
   "source": [
    "from math import sqrt\n",
    "from math import tan\n",
    "from math import pi\n",
    "\n",
    "\n",
    "class Line(object):\n",
    "    '''\n",
    "    Line representation in the form of ax + by + c = 0\n",
    "    '''\n",
    "    def __init__(self, a, b, c, start, end):\n",
    "        self.a = a\n",
    "        self.b = b\n",
    "        self.c = c\n",
    "        self.start = start       # start fit point index\n",
    "        self.end = end           # end fit point index\n",
    "        self.leftend = None      # coordinates for left endpoints\n",
    "        self.rightend = None     # coordinates for right endpoints\n",
    "        \n",
    "def fit_line(coordinates, start, end):\n",
    "    n = end - start + 1\n",
    "    temp1, temp2, temp3, temp4, temp5 = 0, 0, 0, 0, 0\n",
    "    for i in range(start, end + 1):\n",
    "        temp1 += coordinates.x[i]\n",
    "        temp2 += coordinates.y[i]\n",
    "        temp3 += coordinates.x[i] ** 2\n",
    "        temp4 += coordinates.y[i] ** 2\n",
    "        temp5 += coordinates.x[i] * coordinates.y[i]\n",
    "    w1 = n * temp5 - temp1 * temp2\n",
    "    w2 = temp2 * temp2 - n * temp4 - temp1 * temp1 + n * temp3\n",
    "    w3 = temp1 * temp2 - n * temp5\n",
    "    if w1 == 0:\n",
    "        a = -1\n",
    "        b = 0\n",
    "        c = temp1 / n\n",
    "    else:\n",
    "        a = (-w2 + sqrt(w2 * w2 - 4 * w1 * w3)) / 2.0 / w1\n",
    "        b = -1\n",
    "        c = (temp2 - a * temp1) / n\n",
    "    line = Line(a, b, c, start, end)\n",
    "    return line\n",
    "\n",
    "\n",
    "def comp_dist_ptp(x1, y1, x2, y2):\n",
    "    '''\n",
    "    Return euclidean distance between two points\n",
    "    '''\n",
    "    return sqrt((x1 - x2) ** 2 + (y1- y2) ** 2)\n",
    "\n",
    "\n",
    "def comp_dist_ptl(x, y, line):\n",
    "    '''\n",
    "    Return the orthogonal distance between a point and a line\n",
    "    '''\n",
    "    return abs(line.a * x + line.b * y + line.c) / sqrt(line.a ** 2 + line.b **2)"
   ]
  },
  {
   "cell_type": "markdown",
   "metadata": {},
   "source": [
    "## Seed choosing step\n",
    "\n",
    "Scan through the sacn data, if the candidate satisfies the two given conditions, grow the seed.\n",
    "\n",
    "1. Distance from every point in the seed candidate to the fit line is less than a threshold (ortho_threshold = 0.03)\n",
    "2. Distance from every point in the seed candidate to its projected position on the fit line is less than a threshold (projected_threshold = 0.1)"
   ]
  },
  {
   "cell_type": "code",
   "execution_count": 8,
   "metadata": {},
   "outputs": [],
   "source": [
    "def choose_seed(coordinates, start):\n",
    "    end = start + seed_seg_points -1\n",
    "    line = fit_line(coordinates, start, end)\n",
    "    for i in range(start, end + 1):\n",
    "        x = coordinates.x[i]\n",
    "        y = coordinates.y[i]\n",
    "        theta = coordinates.theta[i]\n",
    "        # distance from a point to the fit line\n",
    "        dist1 = comp_dist_ptl(x, y, line)\n",
    "        if dist1 > ortho_threshold:\n",
    "            return None\n",
    "        # compute a point's pojected position on the fit line\n",
    "        if abs(abs(theta) - pi / 2) < 0.00001:  # for tan(theta) does not exist\n",
    "            projected_x = 0\n",
    "            projected_y = line.c\n",
    "        else: \n",
    "            k = tan(theta)\n",
    "            projected_x = line.c / (k - line.a)\n",
    "            projected_y = k * projected_x\n",
    "        # distance from a point to its projected position on the fit line\n",
    "        dist2 = comp_dist_ptp(x, y, projected_x, projected_y)\n",
    "        if dist2 >= projected_threshold:\n",
    "            return None\n",
    "    return line"
   ]
  },
  {
   "cell_type": "markdown",
   "metadata": {},
   "source": [
    "## Seed growing step\n",
    "\n",
    "Grow the seed to its right and left neighbors respectively. "
   ]
  },
  {
   "cell_type": "code",
   "execution_count": 9,
   "metadata": {},
   "outputs": [],
   "source": [
    "def grow_seed(coordinates):\n",
    "    extracted_lines = []\n",
    "    i = 0\n",
    "    while i < len(coordinates.x) - min_line_points + 1:\n",
    "        left = i\n",
    "        line = choose_seed(coordinates, left)\n",
    "        if line is not None:\n",
    "            right = left + seed_seg_points - 1\n",
    "            # grow right\n",
    "            while (right + 1 <= len(coordinates.x) - 1) and \\\n",
    "                  (comp_dist_ptl(coordinates.x[right + 1], coordinates.y[right + 1], line) < ortho_threshold):\n",
    "                right += 1\n",
    "                line = fit_line(coordinates, left, right)\n",
    "            # grow left\n",
    "            while (left - 1 >= 0) and \\\n",
    "                  (comp_dist_ptl(coordinates.x[left - 1], coordinates.y[left - 1], line) < ortho_threshold):\n",
    "                left -= 1\n",
    "                line = fit_line(coordinates, left, right)\n",
    "            # check min_line_points\n",
    "            if right - left + 1 < min_line_points:\n",
    "                i += 1\n",
    "                continue\n",
    "            else: \n",
    "                extracted_lines.append(line)\n",
    "                # start seed checking from the the right next point\n",
    "                i = right + 1\n",
    "        # None means not a seed\n",
    "        else:\n",
    "            i += 1\n",
    "            continue\n",
    "    return extracted_lines"
   ]
  },
  {
   "cell_type": "markdown",
   "metadata": {},
   "source": [
    "## Endpoints generation (to be implemented)"
   ]
  },
  {
   "cell_type": "code",
   "execution_count": 10,
   "metadata": {},
   "outputs": [],
   "source": [
    "def generate_endpoints(extracted_lines, coordinates):\n",
    "    pass"
   ]
  },
  {
   "cell_type": "markdown",
   "metadata": {},
   "source": [
    "# Visualize grown lines"
   ]
  },
  {
   "cell_type": "code",
   "execution_count": 11,
   "metadata": {},
   "outputs": [
    {
     "data": {
      "image/png": "[encoded data removed]",
      "text/plain": [
       "<Figure size 432x288 with 1 Axes>"
      ]
     },
     "metadata": {},
     "output_type": "display_data"
    }
   ],
   "source": [
    "lines_sim = grow_seed(coordinates_sim)\n",
    "display_lines(coordinates_sim, lines_sim)"
   ]
  },
  {
   "cell_type": "code",
   "execution_count": 12,
   "metadata": {},
   "outputs": [
    {
     "data": {
      "image/png": "[encoded data removed]",
      "text/plain": [
       "<Figure size 432x288 with 1 Axes>"
      ]
     },
     "metadata": {},
     "output_type": "display_data"
    }
   ],
   "source": [
    "lines_real = grow_seed(coordinates_real)\n",
    "display_lines(coordinates_real, lines_real)"
   ]
  },
  {
   "cell_type": "markdown",
   "metadata": {},
   "source": [
    "# Todos\n",
    "\n",
    "- **Complete the endpoints generation algorithm. **\n",
    "- **Implement the whole algorithm in rospy.** (Dedicated msg type needed)\n",
    "- **Tailor a display function based on the output pattern of this algorithm and visualize the extracted lines in rviz.**\n",
    "- **Test the realtime performance of this algorithm in a simulated world.** (namely a3_world)"
   ]
  },
  {
   "cell_type": "code",
   "execution_count": null,
   "metadata": {},
   "outputs": [],
   "source": []
  }
 ],
 "metadata": {
  "kernelspec": {
   "display_name": "Python 3",
   "language": "python",
   "name": "python3"
  },
  "language_info": {
   "codemirror_mode": {
    "name": "ipython",
    "version": 3
   },
   "file_extension": ".py",
   "mimetype": "text/x-python",
   "name": "python",
   "nbconvert_exporter": "python",
   "pygments_lexer": "ipython3",
   "version": "3.6.5"
  }
 },
 "nbformat": 4,
 "nbformat_minor": 2
}
